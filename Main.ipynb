{
  "nbformat": 4,
  "nbformat_minor": 0,
  "metadata": {
    "colab": {
      "provenance": []
    },
    "kernelspec": {
      "name": "python3",
      "display_name": "Python 3"
    },
    "language_info": {
      "name": "python"
    },
    "gpuClass": "standard",
    "accelerator": "GPU"
  },
  "cells": [
    {
      "cell_type": "markdown",
      "source": [
        "Please run this one by one."
      ],
      "metadata": {
        "id": "T8AXwH9rpL_b"
      }
    },
    {
      "cell_type": "code",
      "source": [
        "!python -V"
      ],
      "metadata": {
        "id": "IkXFqW_RvB1B",
        "outputId": "8c97b5bc-b055-4b02-fcf2-8efb86cbb989",
        "colab": {
          "base_uri": "https://localhost:8080/"
        }
      },
      "execution_count": 1,
      "outputs": [
        {
          "output_type": "stream",
          "name": "stdout",
          "text": [
            "Python 3.8.10\n"
          ]
        }
      ]
    },
    {
      "cell_type": "code",
      "source": [
        "!sudo apt-get update -y && sudo apt-get install python3.6"
      ],
      "metadata": {
        "colab": {
          "base_uri": "https://localhost:8080/"
        },
        "id": "nEv-0y8qfURI",
        "outputId": "c2635a35-a381-4f88-9a64-ac1146ab09ba"
      },
      "execution_count": 2,
      "outputs": [
        {
          "output_type": "stream",
          "name": "stdout",
          "text": [
            "Get:1 https://cloud.r-project.org/bin/linux/ubuntu focal-cran40/ InRelease [3,622 B]\n",
            "Ign:2 https://developer.download.nvidia.com/compute/machine-learning/repos/ubuntu2004/x86_64  InRelease\n",
            "Hit:3 https://developer.download.nvidia.com/compute/cuda/repos/ubuntu2004/x86_64  InRelease\n",
            "Hit:4 https://developer.download.nvidia.com/compute/machine-learning/repos/ubuntu2004/x86_64  Release\n",
            "Hit:5 http://archive.ubuntu.com/ubuntu focal InRelease\n",
            "Get:6 http://security.ubuntu.com/ubuntu focal-security InRelease [114 kB]\n",
            "Get:7 http://archive.ubuntu.com/ubuntu focal-updates InRelease [114 kB]\n",
            "Get:8 http://ppa.launchpad.net/c2d4u.team/c2d4u4.0+/ubuntu focal InRelease [18.1 kB]\n",
            "Hit:9 http://ppa.launchpad.net/cran/libgit2/ubuntu focal InRelease\n",
            "Get:10 http://archive.ubuntu.com/ubuntu focal-backports InRelease [108 kB]\n",
            "Hit:11 http://ppa.launchpad.net/deadsnakes/ppa/ubuntu focal InRelease\n",
            "Hit:12 http://ppa.launchpad.net/graphics-drivers/ppa/ubuntu focal InRelease\n",
            "Get:14 http://ppa.launchpad.net/c2d4u.team/c2d4u4.0+/ubuntu focal/main Sources [2,377 kB]\n",
            "Get:15 http://security.ubuntu.com/ubuntu focal-security/universe amd64 Packages [982 kB]\n",
            "Get:16 http://security.ubuntu.com/ubuntu focal-security/main amd64 Packages [2,436 kB]\n",
            "Get:17 http://ppa.launchpad.net/c2d4u.team/c2d4u4.0+/ubuntu focal/main amd64 Packages [1,126 kB]\n",
            "Get:18 http://archive.ubuntu.com/ubuntu focal-updates/main amd64 Packages [2,909 kB]\n",
            "Get:19 http://archive.ubuntu.com/ubuntu focal-updates/universe amd64 Packages [1,284 kB]\n",
            "Get:20 http://archive.ubuntu.com/ubuntu focal-updates/restricted amd64 Packages [2,003 kB]\n",
            "Fetched 13.5 MB in 5s (2,718 kB/s)\n",
            "Reading package lists... Done\n",
            "Reading package lists... Done\n",
            "Building dependency tree       \n",
            "Reading state information... Done\n",
            "The following additional packages will be installed:\n",
            "  libpython3.6-minimal libpython3.6-stdlib python3.6-minimal\n",
            "Suggested packages:\n",
            "  python3.6-venv binfmt-support\n",
            "The following NEW packages will be installed:\n",
            "  libpython3.6-minimal libpython3.6-stdlib python3.6 python3.6-minimal\n",
            "0 upgraded, 4 newly installed, 0 to remove and 29 not upgraded.\n",
            "Need to get 4,294 kB of archives.\n",
            "After this operation, 22.1 MB of additional disk space will be used.\n",
            "Get:1 http://ppa.launchpad.net/deadsnakes/ppa/ubuntu focal/main amd64 libpython3.6-minimal amd64 3.6.15-1+focal3 [569 kB]\n",
            "Get:2 http://ppa.launchpad.net/deadsnakes/ppa/ubuntu focal/main amd64 python3.6-minimal amd64 3.6.15-1+focal3 [1,718 kB]\n",
            "Get:3 http://ppa.launchpad.net/deadsnakes/ppa/ubuntu focal/main amd64 libpython3.6-stdlib amd64 3.6.15-1+focal3 [1,758 kB]\n",
            "Get:4 http://ppa.launchpad.net/deadsnakes/ppa/ubuntu focal/main amd64 python3.6 amd64 3.6.15-1+focal3 [248 kB]\n",
            "Fetched 4,294 kB in 4s (1,054 kB/s)\n",
            "debconf: unable to initialize frontend: Dialog\n",
            "debconf: (No usable dialog-like program is installed, so the dialog based frontend cannot be used. at /usr/share/perl5/Debconf/FrontEnd/Dialog.pm line 76, <> line 4.)\n",
            "debconf: falling back to frontend: Readline\n",
            "debconf: unable to initialize frontend: Readline\n",
            "debconf: (This frontend requires a controlling tty.)\n",
            "debconf: falling back to frontend: Teletype\n",
            "dpkg-preconfigure: unable to re-open stdin: \n",
            "Selecting previously unselected package libpython3.6-minimal:amd64.\n",
            "(Reading database ... 129504 files and directories currently installed.)\n",
            "Preparing to unpack .../libpython3.6-minimal_3.6.15-1+focal3_amd64.deb ...\n",
            "Unpacking libpython3.6-minimal:amd64 (3.6.15-1+focal3) ...\n",
            "Selecting previously unselected package python3.6-minimal.\n",
            "Preparing to unpack .../python3.6-minimal_3.6.15-1+focal3_amd64.deb ...\n",
            "Unpacking python3.6-minimal (3.6.15-1+focal3) ...\n",
            "Selecting previously unselected package libpython3.6-stdlib:amd64.\n",
            "Preparing to unpack .../libpython3.6-stdlib_3.6.15-1+focal3_amd64.deb ...\n",
            "Unpacking libpython3.6-stdlib:amd64 (3.6.15-1+focal3) ...\n",
            "Selecting previously unselected package python3.6.\n",
            "Preparing to unpack .../python3.6_3.6.15-1+focal3_amd64.deb ...\n",
            "Unpacking python3.6 (3.6.15-1+focal3) ...\n",
            "Setting up libpython3.6-minimal:amd64 (3.6.15-1+focal3) ...\n",
            "Setting up python3.6-minimal (3.6.15-1+focal3) ...\n",
            "Setting up libpython3.6-stdlib:amd64 (3.6.15-1+focal3) ...\n",
            "Setting up python3.6 (3.6.15-1+focal3) ...\n",
            "Processing triggers for man-db (2.9.1-1) ...\n",
            "Processing triggers for mime-support (3.64ubuntu1) ...\n"
          ]
        }
      ]
    },
    {
      "cell_type": "code",
      "source": [
        "!sudo update-alternatives --install /usr/bin/python3 python3 /usr/bin/python3.6 1"
      ],
      "metadata": {
        "id": "EM0QbsvmeV9f"
      },
      "execution_count": 3,
      "outputs": []
    },
    {
      "cell_type": "code",
      "source": [
        "!sudo update-alternatives --config python3 #pilih versi python 3.6 (input angka 1)"
      ],
      "metadata": {
        "colab": {
          "base_uri": "https://localhost:8080/"
        },
        "id": "8oBDJhRneX4K",
        "outputId": "2e0d2cfb-98e2-484e-8c60-9045424eea07"
      },
      "execution_count": 4,
      "outputs": [
        {
          "output_type": "stream",
          "name": "stdout",
          "text": [
            "There are 2 choices for the alternative python3 (providing /usr/bin/python3).\n",
            "\n",
            "  Selection    Path                Priority   Status\n",
            "------------------------------------------------------------\n",
            "* 0            /usr/bin/python3.8   1         auto mode\n",
            "  1            /usr/bin/python3.6   1         manual mode\n",
            "  2            /usr/bin/python3.8   1         manual mode\n",
            "\n",
            "Press <enter> to keep the current choice[*], or type selection number: 1\n",
            "update-alternatives: using /usr/bin/python3.6 to provide /usr/bin/python3 (python3) in manual mode\n"
          ]
        }
      ]
    },
    {
      "cell_type": "code",
      "source": [
        "!python3 --version"
      ],
      "metadata": {
        "colab": {
          "base_uri": "https://localhost:8080/"
        },
        "id": "_Z9032SueWgH",
        "outputId": "504843ff-6bb0-4113-9f62-67923d2b0758"
      },
      "execution_count": 5,
      "outputs": [
        {
          "output_type": "stream",
          "name": "stdout",
          "text": [
            "Python 3.6.15\n"
          ]
        }
      ]
    },
    {
      "cell_type": "code",
      "source": [
        "!sudo apt-get install python3-pip python3.6-distutils python3-apt\n"
      ],
      "metadata": {
        "colab": {
          "base_uri": "https://localhost:8080/"
        },
        "id": "1m4-moGWftz_",
        "outputId": "65261621-e87c-481f-f0ff-1a12303ed0b3"
      },
      "execution_count": 6,
      "outputs": [
        {
          "output_type": "stream",
          "name": "stdout",
          "text": [
            "Reading package lists... Done\n",
            "Building dependency tree       \n",
            "Reading state information... Done\n",
            "python3-apt is already the newest version (2.0.1).\n",
            "The following additional packages will be installed:\n",
            "  python-pip-whl python3-setuptools python3-wheel python3.6-lib2to3\n",
            "Suggested packages:\n",
            "  python-setuptools-doc\n",
            "The following NEW packages will be installed:\n",
            "  python-pip-whl python3-pip python3-setuptools python3-wheel\n",
            "  python3.6-distutils python3.6-lib2to3\n",
            "0 upgraded, 6 newly installed, 0 to remove and 29 not upgraded.\n",
            "Need to get 2,698 kB of archives.\n",
            "After this operation, 6,163 kB of additional disk space will be used.\n",
            "Get:1 http://archive.ubuntu.com/ubuntu focal-updates/universe amd64 python-pip-whl all 20.0.2-5ubuntu1.6 [1,805 kB]\n",
            "Get:2 http://ppa.launchpad.net/deadsnakes/ppa/ubuntu focal/main amd64 python3.6-lib2to3 all 3.6.15-1+focal3 [122 kB]\n",
            "Get:3 http://archive.ubuntu.com/ubuntu focal/main amd64 python3-setuptools all 45.2.0-1 [330 kB]\n",
            "Get:4 http://archive.ubuntu.com/ubuntu focal/universe amd64 python3-wheel all 0.34.2-1 [23.8 kB]\n",
            "Get:5 http://archive.ubuntu.com/ubuntu focal-updates/universe amd64 python3-pip all 20.0.2-5ubuntu1.6 [231 kB]\n",
            "Get:6 http://ppa.launchpad.net/deadsnakes/ppa/ubuntu focal/main amd64 python3.6-distutils all 3.6.15-1+focal3 [187 kB]\n",
            "Fetched 2,698 kB in 1s (1,985 kB/s)\n",
            "debconf: unable to initialize frontend: Dialog\n",
            "debconf: (No usable dialog-like program is installed, so the dialog based frontend cannot be used. at /usr/share/perl5/Debconf/FrontEnd/Dialog.pm line 76, <> line 6.)\n",
            "debconf: falling back to frontend: Readline\n",
            "debconf: unable to initialize frontend: Readline\n",
            "debconf: (This frontend requires a controlling tty.)\n",
            "debconf: falling back to frontend: Teletype\n",
            "dpkg-preconfigure: unable to re-open stdin: \n",
            "Selecting previously unselected package python-pip-whl.\n",
            "(Reading database ... 130115 files and directories currently installed.)\n",
            "Preparing to unpack .../0-python-pip-whl_20.0.2-5ubuntu1.6_all.deb ...\n",
            "Unpacking python-pip-whl (20.0.2-5ubuntu1.6) ...\n",
            "Selecting previously unselected package python3-setuptools.\n",
            "Preparing to unpack .../1-python3-setuptools_45.2.0-1_all.deb ...\n",
            "Unpacking python3-setuptools (45.2.0-1) ...\n",
            "Selecting previously unselected package python3-wheel.\n",
            "Preparing to unpack .../2-python3-wheel_0.34.2-1_all.deb ...\n",
            "Unpacking python3-wheel (0.34.2-1) ...\n",
            "Selecting previously unselected package python3-pip.\n",
            "Preparing to unpack .../3-python3-pip_20.0.2-5ubuntu1.6_all.deb ...\n",
            "Unpacking python3-pip (20.0.2-5ubuntu1.6) ...\n",
            "Selecting previously unselected package python3.6-lib2to3.\n",
            "Preparing to unpack .../4-python3.6-lib2to3_3.6.15-1+focal3_all.deb ...\n",
            "Unpacking python3.6-lib2to3 (3.6.15-1+focal3) ...\n",
            "Selecting previously unselected package python3.6-distutils.\n",
            "Preparing to unpack .../5-python3.6-distutils_3.6.15-1+focal3_all.deb ...\n",
            "Unpacking python3.6-distutils (3.6.15-1+focal3) ...\n",
            "Setting up python3-setuptools (45.2.0-1) ...\n",
            "Setting up python3-wheel (0.34.2-1) ...\n",
            "Setting up python3.6-lib2to3 (3.6.15-1+focal3) ...\n",
            "Setting up python-pip-whl (20.0.2-5ubuntu1.6) ...\n",
            "Setting up python3.6-distutils (3.6.15-1+focal3) ...\n",
            "Setting up python3-pip (20.0.2-5ubuntu1.6) ...\n",
            "Processing triggers for man-db (2.9.1-1) ...\n"
          ]
        }
      ]
    },
    {
      "cell_type": "code",
      "source": [
        "!pip install --upgrade pip setuptools wheel"
      ],
      "metadata": {
        "colab": {
          "base_uri": "https://localhost:8080/"
        },
        "id": "WuKTZ5a4SFlC",
        "outputId": "d4b8605c-a3c0-4c6e-8c0b-24eeb6093dd1"
      },
      "execution_count": 7,
      "outputs": [
        {
          "output_type": "stream",
          "name": "stdout",
          "text": [
            "Looking in indexes: https://pypi.org/simple, https://us-python.pkg.dev/colab-wheels/public/simple/\n",
            "Collecting pip\n",
            "  Downloading pip-21.3.1-py3-none-any.whl (1.7 MB)\n",
            "\u001b[K     |████████████████████████████████| 1.7 MB 7.8 MB/s \n",
            "\u001b[?25hCollecting setuptools\n",
            "  Downloading setuptools-59.6.0-py3-none-any.whl (952 kB)\n",
            "\u001b[K     |████████████████████████████████| 952 kB 68.2 MB/s \n",
            "\u001b[?25hCollecting wheel\n",
            "  Downloading wheel-0.37.1-py2.py3-none-any.whl (35 kB)\n",
            "Installing collected packages: pip, setuptools, wheel\n",
            "  Attempting uninstall: pip\n",
            "    Found existing installation: pip 20.0.2\n",
            "    Not uninstalling pip at /usr/lib/python3/dist-packages, outside environment /usr\n",
            "    Can't uninstall 'pip'. No files were found to uninstall.\n",
            "  Attempting uninstall: setuptools\n",
            "    Found existing installation: setuptools 45.2.0\n",
            "    Not uninstalling setuptools at /usr/lib/python3/dist-packages, outside environment /usr\n",
            "    Can't uninstall 'setuptools'. No files were found to uninstall.\n",
            "  Attempting uninstall: wheel\n",
            "    Found existing installation: wheel 0.34.2\n",
            "    Not uninstalling wheel at /usr/lib/python3/dist-packages, outside environment /usr\n",
            "    Can't uninstall 'wheel'. No files were found to uninstall.\n",
            "Successfully installed pip-21.3.1 setuptools-59.6.0 wheel-0.37.1\n"
          ]
        }
      ]
    },
    {
      "cell_type": "code",
      "execution_count": 8,
      "metadata": {
        "id": "QyfcMhR1ntKX",
        "colab": {
          "base_uri": "https://localhost:8080/",
          "height": 1000
        },
        "outputId": "b3bbbfa7-5852-4ff0-c659-1ba7b4c663c9"
      },
      "outputs": [
        {
          "output_type": "stream",
          "name": "stdout",
          "text": [
            "Cloning into 'Infant-Pose-Estimation'...\n",
            "remote: Enumerating objects: 402, done.\u001b[K\n",
            "remote: Counting objects: 100% (402/402), done.\u001b[K\n",
            "remote: Compressing objects: 100% (237/237), done.\u001b[K\n",
            "remote: Total 402 (delta 182), reused 340 (delta 144), pack-reused 0\u001b[K\n",
            "Receiving objects: 100% (402/402), 10.66 MiB | 15.05 MiB/s, done.\n",
            "Resolving deltas: 100% (182/182), done.\n",
            "Looking in indexes: https://pypi.org/simple, https://us-python.pkg.dev/colab-wheels/public/simple/\n",
            "Collecting EasyDict==1.7\n",
            "  Downloading easydict-1.7.tar.gz (6.2 kB)\n",
            "  Preparing metadata (setup.py) ... \u001b[?25l\u001b[?25hdone\n",
            "Collecting opencv-python==3.4.1.15\n",
            "  Downloading opencv_python-3.4.1.15-cp36-cp36m-manylinux1_x86_64.whl (24.9 MB)\n",
            "     |████████████████████████████████| 24.9 MB 1.2 MB/s            \n",
            "\u001b[?25hCollecting shapely==1.6.4\n",
            "  Downloading Shapely-1.6.4-cp36-cp36m-manylinux1_x86_64.whl (1.5 MB)\n",
            "     |████████████████████████████████| 1.5 MB 67.0 MB/s            \n",
            "\u001b[?25hCollecting Cython\n",
            "  Downloading Cython-0.29.33-cp36-cp36m-manylinux_2_17_x86_64.manylinux2014_x86_64.manylinux_2_24_x86_64.whl (2.0 MB)\n",
            "     |████████████████████████████████| 2.0 MB 16.7 MB/s            \n",
            "\u001b[?25hCollecting scipy\n",
            "  Downloading scipy-1.5.4-cp36-cp36m-manylinux1_x86_64.whl (25.9 MB)\n",
            "     |████████████████████████████████| 25.9 MB 1.2 MB/s             \n",
            "\u001b[?25hCollecting pandas\n",
            "  Downloading pandas-1.1.5-cp36-cp36m-manylinux1_x86_64.whl (9.5 MB)\n",
            "     |████████████████████████████████| 9.5 MB 62.7 MB/s            \n",
            "\u001b[?25hCollecting pyyaml\n",
            "  Downloading PyYAML-6.0-cp36-cp36m-manylinux_2_5_x86_64.manylinux1_x86_64.manylinux_2_12_x86_64.manylinux2010_x86_64.whl (603 kB)\n",
            "     |████████████████████████████████| 603 kB 71.9 MB/s            \n",
            "\u001b[?25hCollecting json_tricks\n",
            "  Downloading json_tricks-3.16.1-py2.py3-none-any.whl (27 kB)\n",
            "Collecting scikit-image\n",
            "  Downloading scikit_image-0.17.2-cp36-cp36m-manylinux1_x86_64.whl (12.4 MB)\n",
            "     |████████████████████████████████| 12.4 MB 68.2 MB/s            \n",
            "\u001b[?25hCollecting yacs>=0.1.5\n",
            "  Downloading yacs-0.1.8-py3-none-any.whl (14 kB)\n",
            "Collecting tensorboardX==1.6\n",
            "  Downloading tensorboardX-1.6-py2.py3-none-any.whl (129 kB)\n",
            "     |████████████████████████████████| 129 kB 72.8 MB/s            \n",
            "\u001b[?25hCollecting torchvision\n",
            "  Downloading torchvision-0.11.2-cp36-cp36m-manylinux1_x86_64.whl (23.3 MB)\n",
            "     |████████████████████████████████| 23.3 MB 1.2 MB/s             \n",
            "\u001b[?25hCollecting dsntnn\n",
            "  Downloading dsntnn-0.5.3-py3-none-any.whl (9.6 kB)\n",
            "Collecting numpy>=1.11.3\n",
            "  Downloading numpy-1.19.5-cp36-cp36m-manylinux2010_x86_64.whl (14.8 MB)\n",
            "     |████████████████████████████████| 14.8 MB 63.4 MB/s            \n",
            "\u001b[?25hCollecting protobuf>=3.2.0\n",
            "  Downloading protobuf-3.19.6-cp36-cp36m-manylinux_2_17_x86_64.manylinux2014_x86_64.whl (1.1 MB)\n",
            "     |████████████████████████████████| 1.1 MB 63.5 MB/s            \n",
            "\u001b[?25hCollecting six\n",
            "  Downloading six-1.16.0-py2.py3-none-any.whl (11 kB)\n",
            "Collecting pytz>=2017.2\n",
            "  Downloading pytz-2022.7.1-py2.py3-none-any.whl (499 kB)\n",
            "     |████████████████████████████████| 499 kB 76.2 MB/s            \n",
            "\u001b[?25hCollecting python-dateutil>=2.7.3\n",
            "  Downloading python_dateutil-2.8.2-py2.py3-none-any.whl (247 kB)\n",
            "     |████████████████████████████████| 247 kB 59.9 MB/s            \n",
            "\u001b[?25hCollecting pillow!=7.1.0,!=7.1.1,>=4.3.0\n",
            "  Downloading Pillow-8.4.0-cp36-cp36m-manylinux_2_17_x86_64.manylinux2014_x86_64.whl (3.1 MB)\n",
            "     |████████████████████████████████| 3.1 MB 54.7 MB/s            \n",
            "\u001b[?25hCollecting imageio>=2.3.0\n",
            "  Downloading imageio-2.15.0-py3-none-any.whl (3.3 MB)\n",
            "     |████████████████████████████████| 3.3 MB 63.7 MB/s            \n",
            "\u001b[?25hCollecting PyWavelets>=1.1.1\n",
            "  Downloading PyWavelets-1.1.1-cp36-cp36m-manylinux1_x86_64.whl (4.4 MB)\n",
            "     |████████████████████████████████| 4.4 MB 75.4 MB/s            \n",
            "\u001b[?25hCollecting tifffile>=2019.7.26\n",
            "  Downloading tifffile-2020.9.3-py3-none-any.whl (148 kB)\n",
            "     |████████████████████████████████| 148 kB 54.4 MB/s            \n",
            "\u001b[?25hCollecting matplotlib!=3.0.0,>=2.0.0\n",
            "  Downloading matplotlib-3.3.4-cp36-cp36m-manylinux1_x86_64.whl (11.5 MB)\n",
            "     |████████████████████████████████| 11.5 MB 61.5 MB/s            \n",
            "\u001b[?25hCollecting networkx>=2.0\n",
            "  Downloading networkx-2.5.1-py3-none-any.whl (1.6 MB)\n",
            "     |████████████████████████████████| 1.6 MB 64.0 MB/s            \n",
            "\u001b[?25hCollecting torch==1.10.1\n",
            "  Downloading torch-1.10.1-cp36-cp36m-manylinux1_x86_64.whl (881.9 MB)\n",
            "     |██████████████████████████████▎ | 834.1 MB 1.1 MB/s eta 0:00:44  tcmalloc: large alloc 1147494400 bytes == 0x7b4ca000 @  0x7f4b0604b680 0x7f4b0606bda2 0x59da29 0x5eb77c 0x4dabfd 0x50e870 0x5110dd 0x50fae2 0x50e15d 0x50ecb6 0x5110dd 0x50fae2 0x50e15d 0x50ecb6 0x511fbc 0x59beb7 0x511573 0x59beb7 0x511573 0x59beb7 0x511573 0x50d3c9 0x59f271 0x5ad083 0x5444f3 0x5ac06c 0x50ede5 0x5110dd 0x50fae2 0x50e15d 0x50ecb6\n",
            "     |████████████████████████████████| 881.9 MB 13 kB/s               \n",
            "\u001b[?25hCollecting dataclasses\n",
            "  Downloading dataclasses-0.8-py3-none-any.whl (19 kB)\n",
            "Collecting typing-extensions\n",
            "  Downloading typing_extensions-4.1.1-py3-none-any.whl (26 kB)\n",
            "Collecting pyparsing!=2.0.4,!=2.1.2,!=2.1.6,>=2.0.3\n",
            "  Downloading pyparsing-3.0.9-py3-none-any.whl (98 kB)\n",
            "     |████████████████████████████████| 98 kB 8.2 MB/s             \n",
            "\u001b[?25hCollecting kiwisolver>=1.0.1\n",
            "  Downloading kiwisolver-1.3.1-cp36-cp36m-manylinux1_x86_64.whl (1.1 MB)\n",
            "     |████████████████████████████████| 1.1 MB 60.1 MB/s            \n",
            "\u001b[?25hCollecting cycler>=0.10\n",
            "  Downloading cycler-0.11.0-py3-none-any.whl (6.4 kB)\n",
            "Collecting decorator<5,>=4.3\n",
            "  Downloading decorator-4.4.2-py2.py3-none-any.whl (9.2 kB)\n",
            "Building wheels for collected packages: EasyDict\n",
            "  Building wheel for EasyDict (setup.py) ... \u001b[?25l\u001b[?25hdone\n",
            "  Created wheel for EasyDict: filename=easydict-1.7-py3-none-any.whl size=6122 sha256=c7f25d60327e4670bdbe5aab64e1ec66897781f94c6da073939e95d7c51d9d9e\n",
            "  Stored in directory: /root/.cache/pip/wheels/32/2a/1d/ec7db1b250504b15283cdb032f421b301689f91ef06e436e58\n",
            "Successfully built EasyDict\n",
            "Installing collected packages: six, typing-extensions, python-dateutil, pyparsing, pillow, numpy, kiwisolver, decorator, dataclasses, cycler, torch, tifffile, scipy, pyyaml, PyWavelets, pytz, protobuf, networkx, matplotlib, imageio, yacs, torchvision, tensorboardX, shapely, scikit-image, pandas, opencv-python, json-tricks, EasyDict, dsntnn, Cython\n",
            "Successfully installed Cython-0.29.33 EasyDict-1.7 PyWavelets-1.1.1 cycler-0.11.0 dataclasses-0.8 decorator-4.4.2 dsntnn-0.5.3 imageio-2.15.0 json-tricks-3.16.1 kiwisolver-1.3.1 matplotlib-3.3.4 networkx-2.5.1 numpy-1.19.5 opencv-python-3.4.1.15 pandas-1.1.5 pillow-8.4.0 protobuf-3.19.6 pyparsing-3.0.9 python-dateutil-2.8.2 pytz-2022.7.1 pyyaml-6.0 scikit-image-0.17.2 scipy-1.5.4 shapely-1.6.4 six-1.16.0 tensorboardX-1.6 tifffile-2020.9.3 torch-1.10.1 torchvision-0.11.2 typing-extensions-4.1.1 yacs-0.1.8\n",
            "\u001b[33mWARNING: Running pip as the 'root' user can result in broken permissions and conflicting behaviour with the system package manager. It is recommended to use a virtual environment instead: https://pip.pypa.io/warnings/venv\u001b[0m\n"
          ]
        },
        {
          "output_type": "display_data",
          "data": {
            "application/vnd.colab-display-data+json": {
              "pip_warning": {
                "packages": [
                  "cycler",
                  "dateutil",
                  "decorator",
                  "google"
                ]
              }
            }
          },
          "metadata": {}
        }
      ],
      "source": [
        "# cloning master repo and symlink all important configs\n",
        "!git clone https://github.com/IritaSee/Infant-Pose-Estimation.git\n",
        "!ln -s /content/Infant-Pose-Estimation/experiments/coco/hrnet/w48_384x288_adam_lr1e-3_custom.yaml ./w48_384x288_adam_lr1e-3_custom.yaml\n",
        "!pip install -r Infant-Pose-Estimation/requirements.txt"
      ]
    },
    {
      "cell_type": "code",
      "source": [
        "%cd Infant-Pose-Estimation/"
      ],
      "metadata": {
        "colab": {
          "base_uri": "https://localhost:8080/"
        },
        "id": "PUEK_2WIc8dB",
        "outputId": "e1bc100c-8223-4439-e903-444c070c9008"
      },
      "execution_count": 9,
      "outputs": [
        {
          "output_type": "stream",
          "name": "stdout",
          "text": [
            "/content/Infant-Pose-Estimation\n"
          ]
        }
      ]
    },
    {
      "cell_type": "code",
      "source": [
        "%cd lib"
      ],
      "metadata": {
        "colab": {
          "base_uri": "https://localhost:8080/"
        },
        "id": "chLAEX0ddKeX",
        "outputId": "6159f773-6cdf-4a31-c0f3-93c6377b5762"
      },
      "execution_count": 10,
      "outputs": [
        {
          "output_type": "stream",
          "name": "stdout",
          "text": [
            "/content/Infant-Pose-Estimation/lib\n"
          ]
        }
      ]
    },
    {
      "cell_type": "code",
      "source": [
        "!pip install cython"
      ],
      "metadata": {
        "colab": {
          "base_uri": "https://localhost:8080/"
        },
        "id": "zpDQyLiiQciU",
        "outputId": "c4787d2f-871f-448a-82a8-8ee9635b2148"
      },
      "execution_count": 11,
      "outputs": [
        {
          "output_type": "stream",
          "name": "stdout",
          "text": [
            "Looking in indexes: https://pypi.org/simple, https://us-python.pkg.dev/colab-wheels/public/simple/\n",
            "Requirement already satisfied: cython in /usr/local/lib/python3.6/dist-packages (0.29.33)\n",
            "\u001b[33mWARNING: Running pip as the 'root' user can result in broken permissions and conflicting behaviour with the system package manager. It is recommended to use a virtual environment instead: https://pip.pypa.io/warnings/venv\u001b[0m\n"
          ]
        }
      ]
    },
    {
      "cell_type": "code",
      "source": [
        "!make"
      ],
      "metadata": {
        "colab": {
          "base_uri": "https://localhost:8080/"
        },
        "id": "vbZmnSFLdDW6",
        "outputId": "745b2ec8-3032-493d-d6be-e66b77730b29"
      },
      "execution_count": 12,
      "outputs": [
        {
          "output_type": "stream",
          "name": "stdout",
          "text": [
            "cd nms; python setup_linux.py build_ext --inplace; rm -rf build; cd ../../\n",
            "running build_ext\n",
            "skipping 'cpu_nms.c' Cython extension (up-to-date)\n",
            "skipping 'gpu_nms.cpp' Cython extension (up-to-date)\n"
          ]
        }
      ]
    },
    {
      "cell_type": "code",
      "source": [
        "%cd .."
      ],
      "metadata": {
        "colab": {
          "base_uri": "https://localhost:8080/"
        },
        "id": "qSWs-8UmikhX",
        "outputId": "21901d8e-648a-4b78-d8cf-d832cf04254b"
      },
      "execution_count": 13,
      "outputs": [
        {
          "output_type": "stream",
          "name": "stdout",
          "text": [
            "/content/Infant-Pose-Estimation\n"
          ]
        }
      ]
    },
    {
      "cell_type": "code",
      "source": [
        "!sudo apt install libpython3.6-dev\n",
        "#!git clone https://github.com/waleedka/coco\n",
        "!pip install -U setuptools\n",
        "!pip install -U wheel\n",
        "!make install -C coco/PythonAPI"
      ],
      "metadata": {
        "colab": {
          "base_uri": "https://localhost:8080/"
        },
        "id": "h5JZh06w27aZ",
        "outputId": "f7966e10-d7e7-43bd-fef1-27e7953c78bf"
      },
      "execution_count": 14,
      "outputs": [
        {
          "output_type": "stream",
          "name": "stdout",
          "text": [
            "Reading package lists... Done\n",
            "Building dependency tree       \n",
            "Reading state information... Done\n",
            "The following additional packages will be installed:\n",
            "  libpython3.6\n",
            "The following NEW packages will be installed:\n",
            "  libpython3.6 libpython3.6-dev\n",
            "0 upgraded, 2 newly installed, 0 to remove and 29 not upgraded.\n",
            "Need to get 4,829 kB of archives.\n",
            "After this operation, 21.6 MB of additional disk space will be used.\n",
            "Get:1 http://ppa.launchpad.net/deadsnakes/ppa/ubuntu focal/main amd64 libpython3.6 amd64 3.6.15-1+focal3 [1,396 kB]\n",
            "Get:2 http://ppa.launchpad.net/deadsnakes/ppa/ubuntu focal/main amd64 libpython3.6-dev amd64 3.6.15-1+focal3 [3,433 kB]\n",
            "Fetched 4,829 kB in 2s (1,959 kB/s)\n",
            "debconf: unable to initialize frontend: Dialog\n",
            "debconf: (No usable dialog-like program is installed, so the dialog based frontend cannot be used. at /usr/share/perl5/Debconf/FrontEnd/Dialog.pm line 76, <> line 2.)\n",
            "debconf: falling back to frontend: Readline\n",
            "debconf: unable to initialize frontend: Readline\n",
            "debconf: (This frontend requires a controlling tty.)\n",
            "debconf: falling back to frontend: Teletype\n",
            "dpkg-preconfigure: unable to re-open stdin: \n",
            "Selecting previously unselected package libpython3.6:amd64.\n",
            "(Reading database ... 130618 files and directories currently installed.)\n",
            "Preparing to unpack .../libpython3.6_3.6.15-1+focal3_amd64.deb ...\n",
            "Unpacking libpython3.6:amd64 (3.6.15-1+focal3) ...\n",
            "Selecting previously unselected package libpython3.6-dev:amd64.\n",
            "Preparing to unpack .../libpython3.6-dev_3.6.15-1+focal3_amd64.deb ...\n",
            "Unpacking libpython3.6-dev:amd64 (3.6.15-1+focal3) ...\n",
            "Setting up libpython3.6:amd64 (3.6.15-1+focal3) ...\n",
            "Setting up libpython3.6-dev:amd64 (3.6.15-1+focal3) ...\n",
            "Processing triggers for man-db (2.9.1-1) ...\n",
            "Looking in indexes: https://pypi.org/simple, https://us-python.pkg.dev/colab-wheels/public/simple/\n",
            "Requirement already satisfied: setuptools in /usr/local/lib/python3.6/dist-packages (59.6.0)\n",
            "\u001b[33mWARNING: Running pip as the 'root' user can result in broken permissions and conflicting behaviour with the system package manager. It is recommended to use a virtual environment instead: https://pip.pypa.io/warnings/venv\u001b[0m\n",
            "Looking in indexes: https://pypi.org/simple, https://us-python.pkg.dev/colab-wheels/public/simple/\n",
            "Requirement already satisfied: wheel in /usr/local/lib/python3.6/dist-packages (0.37.1)\n",
            "\u001b[33mWARNING: Running pip as the 'root' user can result in broken permissions and conflicting behaviour with the system package manager. It is recommended to use a virtual environment instead: https://pip.pypa.io/warnings/venv\u001b[0m\n",
            "make: *** coco/PythonAPI: No such file or directory.  Stop.\n"
          ]
        }
      ]
    },
    {
      "cell_type": "code",
      "source": [
        "!ls"
      ],
      "metadata": {
        "colab": {
          "base_uri": "https://localhost:8080/"
        },
        "id": "0SxEOvBN3STG",
        "outputId": "3d0ce21a-a36b-4068-b176-f3f94cc9d1fc"
      },
      "execution_count": 15,
      "outputs": [
        {
          "output_type": "stream",
          "name": "stdout",
          "text": [
            "experiments    lib\t   README.md\t     syn_generation  tuning_doc.md\n",
            "fix_naming.py  Main.ipynb  requirements.txt  tools\n"
          ]
        }
      ]
    },
    {
      "cell_type": "code",
      "source": [
        "!pip install pycocotools ipykernel"
      ],
      "metadata": {
        "colab": {
          "base_uri": "https://localhost:8080/",
          "height": 1000
        },
        "id": "ZnB-XPVdivTL",
        "outputId": "876e3e1f-7b63-4888-8eba-f7abb3d2c1f8"
      },
      "execution_count": 16,
      "outputs": [
        {
          "output_type": "stream",
          "name": "stdout",
          "text": [
            "Looking in indexes: https://pypi.org/simple, https://us-python.pkg.dev/colab-wheels/public/simple/\n",
            "Collecting pycocotools\n",
            "  Downloading pycocotools-2.0.6.tar.gz (24 kB)\n",
            "  Installing build dependencies ... \u001b[?25l\u001b[?25hdone\n",
            "  Getting requirements to build wheel ... \u001b[?25l\u001b[?25hdone\n",
            "  Preparing metadata (pyproject.toml) ... \u001b[?25l\u001b[?25hdone\n",
            "Collecting ipykernel\n",
            "  Downloading ipykernel-5.5.6-py3-none-any.whl (121 kB)\n",
            "     |████████████████████████████████| 121 kB 14.1 MB/s            \n",
            "\u001b[?25hRequirement already satisfied: numpy in /usr/local/lib/python3.6/dist-packages (from pycocotools) (1.19.5)\n",
            "Requirement already satisfied: matplotlib>=2.1.0 in /usr/local/lib/python3.6/dist-packages (from pycocotools) (3.3.4)\n",
            "Collecting ipython>=5.0.0\n",
            "  Downloading ipython-7.16.3-py3-none-any.whl (783 kB)\n",
            "     |████████████████████████████████| 783 kB 54.4 MB/s            \n",
            "\u001b[?25hCollecting tornado>=4.2\n",
            "  Downloading tornado-6.1-cp36-cp36m-manylinux2010_x86_64.whl (427 kB)\n",
            "     |████████████████████████████████| 427 kB 65.8 MB/s            \n",
            "\u001b[?25hCollecting jupyter-client\n",
            "  Downloading jupyter_client-7.1.2-py3-none-any.whl (130 kB)\n",
            "     |████████████████████████████████| 130 kB 75.7 MB/s            \n",
            "\u001b[?25hCollecting ipython-genutils\n",
            "  Downloading ipython_genutils-0.2.0-py2.py3-none-any.whl (26 kB)\n",
            "Collecting traitlets>=4.1.0\n",
            "  Downloading traitlets-4.3.3-py2.py3-none-any.whl (75 kB)\n",
            "     |████████████████████████████████| 75 kB 5.5 MB/s             \n",
            "\u001b[?25hCollecting pexpect\n",
            "  Downloading pexpect-4.8.0-py2.py3-none-any.whl (59 kB)\n",
            "     |████████████████████████████████| 59 kB 7.7 MB/s             \n",
            "\u001b[?25hRequirement already satisfied: decorator in /usr/local/lib/python3.6/dist-packages (from ipython>=5.0.0->ipykernel) (4.4.2)\n",
            "Collecting pygments\n",
            "  Downloading Pygments-2.14.0-py3-none-any.whl (1.1 MB)\n",
            "     |████████████████████████████████| 1.1 MB 60.0 MB/s            \n",
            "\u001b[?25hCollecting jedi<=0.17.2,>=0.10\n",
            "  Downloading jedi-0.17.2-py2.py3-none-any.whl (1.4 MB)\n",
            "     |████████████████████████████████| 1.4 MB 55.5 MB/s            \n",
            "\u001b[?25hRequirement already satisfied: setuptools>=18.5 in /usr/local/lib/python3.6/dist-packages (from ipython>=5.0.0->ipykernel) (59.6.0)\n",
            "Collecting backcall\n",
            "  Downloading backcall-0.2.0-py2.py3-none-any.whl (11 kB)\n",
            "Collecting pickleshare\n",
            "  Downloading pickleshare-0.7.5-py2.py3-none-any.whl (6.9 kB)\n",
            "Collecting prompt-toolkit!=3.0.0,!=3.0.1,<3.1.0,>=2.0.0\n",
            "  Downloading prompt_toolkit-3.0.36-py3-none-any.whl (386 kB)\n",
            "     |████████████████████████████████| 386 kB 73.1 MB/s            \n",
            "\u001b[?25hRequirement already satisfied: kiwisolver>=1.0.1 in /usr/local/lib/python3.6/dist-packages (from matplotlib>=2.1.0->pycocotools) (1.3.1)\n",
            "Requirement already satisfied: pyparsing!=2.0.4,!=2.1.2,!=2.1.6,>=2.0.3 in /usr/local/lib/python3.6/dist-packages (from matplotlib>=2.1.0->pycocotools) (3.0.9)\n",
            "Requirement already satisfied: python-dateutil>=2.1 in /usr/local/lib/python3.6/dist-packages (from matplotlib>=2.1.0->pycocotools) (2.8.2)\n",
            "Requirement already satisfied: cycler>=0.10 in /usr/local/lib/python3.6/dist-packages (from matplotlib>=2.1.0->pycocotools) (0.11.0)\n",
            "Requirement already satisfied: pillow>=6.2.0 in /usr/local/lib/python3.6/dist-packages (from matplotlib>=2.1.0->pycocotools) (8.4.0)\n",
            "Requirement already satisfied: six in /usr/local/lib/python3.6/dist-packages (from traitlets>=4.1.0->ipykernel) (1.16.0)\n",
            "Collecting nest-asyncio>=1.5\n",
            "  Downloading nest_asyncio-1.5.6-py3-none-any.whl (5.2 kB)\n",
            "Collecting pyzmq>=13\n",
            "  Downloading pyzmq-25.0.0-cp36-cp36m-manylinux_2_5_x86_64.manylinux1_x86_64.whl (1.0 MB)\n",
            "     |████████████████████████████████| 1.0 MB 64.9 MB/s            \n",
            "\u001b[?25hCollecting entrypoints\n",
            "  Downloading entrypoints-0.4-py3-none-any.whl (5.3 kB)\n",
            "Collecting jupyter-core>=4.6.0\n",
            "  Downloading jupyter_core-4.9.2-py3-none-any.whl (86 kB)\n",
            "     |████████████████████████████████| 86 kB 7.2 MB/s             \n",
            "\u001b[?25hCollecting parso<0.8.0,>=0.7.0\n",
            "  Downloading parso-0.7.1-py2.py3-none-any.whl (109 kB)\n",
            "     |████████████████████████████████| 109 kB 74.2 MB/s            \n",
            "\u001b[?25hCollecting wcwidth\n",
            "  Downloading wcwidth-0.2.6-py2.py3-none-any.whl (29 kB)\n",
            "Collecting ptyprocess>=0.5\n",
            "  Downloading ptyprocess-0.7.0-py2.py3-none-any.whl (13 kB)\n",
            "Building wheels for collected packages: pycocotools\n",
            "  Building wheel for pycocotools (pyproject.toml) ... \u001b[?25l\u001b[?25hdone\n",
            "  Created wheel for pycocotools: filename=pycocotools-2.0.6-cp36-cp36m-linux_x86_64.whl size=368266 sha256=654850f1ee15a7b6302c99493453aea739e4b1bd7d537f96ee8121b75b6f2b85\n",
            "  Stored in directory: /root/.cache/pip/wheels/39/5f/a6/d19eb746e1b7525795fa8910576ddc6108d0c9cf343e4155e8\n",
            "Successfully built pycocotools\n",
            "Installing collected packages: ipython-genutils, wcwidth, traitlets, ptyprocess, parso, tornado, pyzmq, pygments, prompt-toolkit, pickleshare, pexpect, nest-asyncio, jupyter-core, jedi, entrypoints, backcall, jupyter-client, ipython, pycocotools, ipykernel\n",
            "Successfully installed backcall-0.2.0 entrypoints-0.4 ipykernel-5.5.6 ipython-7.16.3 ipython-genutils-0.2.0 jedi-0.17.2 jupyter-client-7.1.2 jupyter-core-4.9.2 nest-asyncio-1.5.6 parso-0.7.1 pexpect-4.8.0 pickleshare-0.7.5 prompt-toolkit-3.0.36 ptyprocess-0.7.0 pycocotools-2.0.6 pygments-2.14.0 pyzmq-25.0.0 tornado-6.1 traitlets-4.3.3 wcwidth-0.2.6\n",
            "\u001b[33mWARNING: Running pip as the 'root' user can result in broken permissions and conflicting behaviour with the system package manager. It is recommended to use a virtual environment instead: https://pip.pypa.io/warnings/venv\u001b[0m\n"
          ]
        },
        {
          "output_type": "display_data",
          "data": {
            "application/vnd.colab-display-data+json": {
              "pip_warning": {
                "packages": [
                  "ipython_genutils",
                  "pexpect",
                  "pickleshare"
                ]
              }
            }
          },
          "metadata": {}
        }
      ]
    },
    {
      "cell_type": "markdown",
      "source": [
        "Once you see `yaml` file in the File System you can edit it to suit your need "
      ],
      "metadata": {
        "id": "69wM5Ia2rw6Q"
      }
    },
    {
      "cell_type": "code",
      "source": [
        "#link dataset dan model pretrained: https://drive.google.com/drive/folders/1izYulTdHR4HYhNh5CZKriGwKscx_GxXT?usp=share_link\n",
        "# dataset: \"/content/drive/MyDrive/Ibu Endah (Pose Estimation)/data/syrip\""
      ],
      "metadata": {
        "id": "XmFa8WdHRYEg"
      },
      "execution_count": 17,
      "outputs": []
    },
    {
      "cell_type": "code",
      "source": [
        "from google.colab import drive\n",
        "drive.mount('/content/drive')"
      ],
      "metadata": {
        "colab": {
          "base_uri": "https://localhost:8080/"
        },
        "id": "Vg6yPFEzReXS",
        "outputId": "3ae3da29-0214-498b-c88f-866d58d99999"
      },
      "execution_count": 18,
      "outputs": [
        {
          "output_type": "stream",
          "name": "stdout",
          "text": [
            "Mounted at /content/drive\n"
          ]
        }
      ]
    },
    {
      "cell_type": "code",
      "source": [
        "!ln -s \"/content/drive/MyDrive/Ibu Endah (Pose Estimation)/data/\" ./"
      ],
      "metadata": {
        "id": "tdVKIq1fV5B5"
      },
      "execution_count": 22,
      "outputs": []
    },
    {
      "cell_type": "code",
      "source": [
        "# !python3 ./tools/test_adaptive_model.py --cfg ./experiments/coco/hrnet/w48_384x288_adam_lr1e-3_custom.yaml TEST.MODEL_FILE ./models/hrnet_fidip.pth TEST.USE_GT_BOX True\n",
        "!python3 ./tools/test_adaptive_model.py --cfg ./experiments/coco/hrnet/w48_384x288_adam_lr1e-3_custom.yaml TEST.MODEL_FILE \"/content/drive/MyDrive/Ibu Endah (Pose Estimation)/hrnet_fidip.pth\""
      ],
      "metadata": {
        "colab": {
          "base_uri": "https://localhost:8080/"
        },
        "id": "thr2LN9fo-LU",
        "outputId": "3bbd5be5-1663-49b0-cd93-997cea4138f6"
      },
      "execution_count": 23,
      "outputs": [
        {
          "output_type": "stream",
          "name": "stdout",
          "text": [
            "=> creating output_hrnet_new_mimm_all_validate/syrip/adaptive_pose_hrnet/w48_384x288_adam_lr1e-3_custom\n",
            "=> creating log_hrnet_new_mimm_all_validate/syrip/adaptive_pose_hrnet/w48_384x288_adam_lr1e-3_custom_2023-01-23-01-58\n",
            "Namespace(cfg='./experiments/coco/hrnet/w48_384x288_adam_lr1e-3_custom.yaml', dataDir='', logDir='', modelDir='', opts=['TEST.MODEL_FILE', '/content/drive/MyDrive/Ibu Endah (Pose Estimation)/hrnet_fidip.pth'], prevModelDir='')\n",
            "AUTO_RESUME: True\n",
            "CUDNN:\n",
            "  BENCHMARK: True\n",
            "  DETERMINISTIC: False\n",
            "  ENABLED: True\n",
            "DATASET:\n",
            "  COLOR_RGB: True\n",
            "  DATASET: syrip\n",
            "  DATA_FORMAT: jpg\n",
            "  FLIP: True\n",
            "  HYBRID_JOINTS_TYPE: \n",
            "  NUM_JOINTS_HALF_BODY: 8\n",
            "  PROB_HALF_BODY: 0.3\n",
            "  ROOT: data/syrip/\n",
            "  ROT_FACTOR: 45\n",
            "  SCALE_FACTOR: 0.35\n",
            "  SELECT_DATA: False\n",
            "  TEST_SET: validate_infant\n",
            "  TRAIN_PRE_SET: train_pre_infant\n",
            "  TRAIN_SET: train_infant\n",
            "DATA_DIR: \n",
            "DEBUG:\n",
            "  DEBUG: True\n",
            "  SAVE_BATCH_IMAGES_GT: True\n",
            "  SAVE_BATCH_IMAGES_PRED: True\n",
            "  SAVE_HEATMAPS_GT: True\n",
            "  SAVE_HEATMAPS_PRED: True\n",
            "GPUS: (0,)\n",
            "LOG_DIR: log_hrnet_new_mimm_all_validate\n",
            "LOSS:\n",
            "  TOPK: 8\n",
            "  USE_DIFFERENT_JOINTS_WEIGHT: False\n",
            "  USE_OHKM: False\n",
            "  USE_TARGET_WEIGHT: True\n",
            "MODEL:\n",
            "  EXTRA:\n",
            "    FINAL_CONV_KERNEL: 1\n",
            "    PRETRAINED_LAYERS: ['conv1', 'bn1', 'conv2', 'bn2', 'layer1', 'transition1', 'stage2', 'transition2', 'stage3', 'transition3', 'stage4']\n",
            "    STAGE2:\n",
            "      BLOCK: BASIC\n",
            "      FUSE_METHOD: SUM\n",
            "      NUM_BLOCKS: [4, 4]\n",
            "      NUM_BRANCHES: 2\n",
            "      NUM_CHANNELS: [48, 96]\n",
            "      NUM_MODULES: 1\n",
            "    STAGE3:\n",
            "      BLOCK: BASIC\n",
            "      FUSE_METHOD: SUM\n",
            "      NUM_BLOCKS: [4, 4, 4]\n",
            "      NUM_BRANCHES: 3\n",
            "      NUM_CHANNELS: [48, 96, 192]\n",
            "      NUM_MODULES: 4\n",
            "    STAGE4:\n",
            "      BLOCK: BASIC\n",
            "      FUSE_METHOD: SUM\n",
            "      NUM_BLOCKS: [4, 4, 4, 4]\n",
            "      NUM_BRANCHES: 4\n",
            "      NUM_CHANNELS: [48, 96, 192, 384]\n",
            "      NUM_MODULES: 3\n",
            "  HEATMAP_SIZE: [72, 96]\n",
            "  IMAGE_SIZE: [288, 384]\n",
            "  INIT_WEIGHTS: True\n",
            "  NAME: adaptive_pose_hrnet\n",
            "  NUM_JOINTS: 17\n",
            "  PRETRAINED: models/pytorch/imagenet/hrnet_w48-8ef0771d.pth\n",
            "  SIGMA: 3\n",
            "  TAG_PER_JOINT: True\n",
            "  TARGET_TYPE: gaussian\n",
            "OUTPUT_DIR: output_hrnet_new_mimm_all_validate\n",
            "PIN_MEMORY: True\n",
            "PRINT_FREQ: 20\n",
            "RANK: 0\n",
            "TEST:\n",
            "  BATCH_SIZE_PER_GPU: 2\n",
            "  BBOX_THRE: 1.0\n",
            "  BLUR_KERNEL: 11\n",
            "  COCO_BBOX_FILE: \n",
            "  FLIP_TEST: True\n",
            "  IMAGE_THRE: 0.0\n",
            "  IN_VIS_THRE: 0.2\n",
            "  MODEL_FILE: /content/drive/MyDrive/Ibu Endah (Pose Estimation)/hrnet_fidip.pth\n",
            "  NMS_THRE: 1.0\n",
            "  OKS_THRE: 0.9\n",
            "  POST_PROCESS: True\n",
            "  SOFT_NMS: False\n",
            "  USE_GT_BBOX: True\n",
            "TRAIN:\n",
            "  BATCH_SIZE_PER_GPU: 2\n",
            "  BEGIN_EPOCH: 0\n",
            "  CHECKPOINT: \n",
            "  END_EPOCH: 100\n",
            "  GAMMA1: 0.99\n",
            "  GAMMA2: 0.0\n",
            "  LAMBDA: 0.0005\n",
            "  LR: 0.001\n",
            "  LR_FACTOR: 0.1\n",
            "  LR_STEP: [170, 200]\n",
            "  MOMENTUM: 0.9\n",
            "  NESTEROV: False\n",
            "  OPTIMIZER: adam\n",
            "  PRE_BATCH_SIZE_PER_GPU: 2\n",
            "  PRE_EPOCH: 10\n",
            "  RESUME: False\n",
            "  SHUFFLE: True\n",
            "  WD: 0.0001\n",
            "WORKERS: 1\n",
            "=> loading model from /content/drive/MyDrive/Ibu Endah (Pose Estimation)/hrnet_fidip.pth\n",
            "loading annotations into memory...\n",
            "Done (t=0.45s)\n",
            "creating index...\n",
            "index created!\n",
            "=> classes: ['__background__', 'person']\n",
            "=> num_images: 100\n",
            "=> load 100 samples\n",
            "Test: [0/50]\tTime 3.259 (3.259)\tLoss 0.0002 (0.0002)\tAccuracy 0.971 (0.971)\n",
            "Test: [20/50]\tTime 0.543 (0.788)\tLoss 0.0004 (0.0004)\tAccuracy 0.912 (0.910)\n",
            "Test: [40/50]\tTime 0.510 (0.752)\tLoss 0.0002 (0.0004)\tAccuracy 0.971 (0.900)\n",
            "27\n",
            "35\n",
            "44\n",
            "5\n",
            "62\n",
            "0\n",
            "1\n",
            "10\n",
            "11\n",
            "12\n",
            "13\n",
            "14\n",
            "15\n",
            "16\n",
            "17\n",
            "18\n",
            "19\n",
            "2\n",
            "20\n",
            "22\n",
            "23\n",
            "24\n",
            "25\n",
            "26\n",
            "28\n",
            "29\n",
            "3\n",
            "30\n",
            "31\n",
            "32\n",
            "33\n",
            "34\n",
            "36\n",
            "37\n",
            "38\n",
            "39\n",
            "4\n",
            "40\n",
            "41\n",
            "42\n",
            "43\n",
            "45\n",
            "46\n",
            "47\n",
            "48\n",
            "49\n",
            "50\n",
            "51\n",
            "52\n",
            "53\n",
            "54\n",
            "55\n",
            "56\n",
            "57\n",
            "58\n",
            "59\n",
            "6\n",
            "60\n",
            "61\n",
            "63\n",
            "64\n",
            "21\n",
            "7\n",
            "8\n",
            "9\n",
            "65\n",
            "66\n",
            "67\n",
            "68\n",
            "69\n",
            "70\n",
            "71\n",
            "72\n",
            "73\n",
            "74\n",
            "75\n",
            "76\n",
            "77\n",
            "78\n",
            "79\n",
            "80\n",
            "81\n",
            "82\n",
            "83\n",
            "84\n",
            "85\n",
            "86\n",
            "87\n",
            "88\n",
            "89\n",
            "90\n",
            "91\n",
            "92\n",
            "93\n",
            "94\n",
            "95\n",
            "96\n",
            "97\n",
            "98\n",
            "99\n",
            "=> writing results json to output_hrnet_new_mimm_all_validate/syrip/adaptive_pose_hrnet/w48_384x288_adam_lr1e-3_custom/results/keypoints_validate_infant_results_0.json\n",
            "Loading and preparing results...\n",
            "DONE (t=0.01s)\n",
            "creating index...\n",
            "index created!\n",
            "Running per image evaluation...\n",
            "Evaluate annotation type *keypoints*\n",
            "DONE (t=0.02s).\n",
            "Accumulating evaluation results...\n",
            "DONE (t=0.00s).\n",
            " Average Precision  (AP) @[ IoU=0.50:0.95 | area=   all | maxDets= 20 ] = 0.936\n",
            " Average Precision  (AP) @[ IoU=0.50      | area=   all | maxDets= 20 ] = 0.985\n",
            " Average Precision  (AP) @[ IoU=0.75      | area=   all | maxDets= 20 ] = 0.985\n",
            " Average Precision  (AP) @[ IoU=0.50:0.95 | area=medium | maxDets= 20 ] = -1.000\n",
            " Average Precision  (AP) @[ IoU=0.50:0.95 | area= large | maxDets= 20 ] = 0.936\n",
            " Average Recall     (AR) @[ IoU=0.50:0.95 | area=   all | maxDets= 20 ] = 0.946\n",
            " Average Recall     (AR) @[ IoU=0.50      | area=   all | maxDets= 20 ] = 0.990\n",
            " Average Recall     (AR) @[ IoU=0.75      | area=   all | maxDets= 20 ] = 0.990\n",
            " Average Recall     (AR) @[ IoU=0.50:0.95 | area=medium | maxDets= 20 ] = -1.000\n",
            " Average Recall     (AR) @[ IoU=0.50:0.95 | area= large | maxDets= 20 ] = 0.946\n",
            "| Arch | AP | Ap .5 | AP .75 | AP (M) | AP (L) | AR | AR .5 | AR .75 | AR (M) | AR (L) |\n",
            "|---|---|---|---|---|---|---|---|---|---|---|\n",
            "| adaptive... | 0.936 | 0.985 | 0.985 | -1.000 | 0.936 | 0.946 | 0.990 | 0.990 | -1.000 | 0.946 |\n"
          ]
        }
      ]
    },
    {
      "cell_type": "code",
      "source": [
        "from google.colab import files\n",
        "\n",
        "\n",
        "files.download('./output_hrnet_new_mimm_all_validate/syrip/adaptive_pose_hrnet/w48_384x288_adam_lr1e-3_custom/val/val_40_pred.jpg')\n",
        "files.download('./output_hrnet_new_mimm_all_validate/syrip/adaptive_pose_hrnet/w48_384x288_adam_lr1e-3_custom/val/val_40_pred.jpg')"
      ],
      "metadata": {
        "id": "fIWyBvssuXFk",
        "outputId": "9d0d97b3-e1e6-4736-da3e-c5bf63a94b98",
        "colab": {
          "base_uri": "https://localhost:8080/",
          "height": 17
        }
      },
      "execution_count": 24,
      "outputs": [
        {
          "output_type": "display_data",
          "data": {
            "text/plain": [
              "<IPython.core.display.Javascript object>"
            ],
            "application/javascript": [
              "\n",
              "    async function download(id, filename, size) {\n",
              "      if (!google.colab.kernel.accessAllowed) {\n",
              "        return;\n",
              "      }\n",
              "      const div = document.createElement('div');\n",
              "      const label = document.createElement('label');\n",
              "      label.textContent = `Downloading \"${filename}\": `;\n",
              "      div.appendChild(label);\n",
              "      const progress = document.createElement('progress');\n",
              "      progress.max = size;\n",
              "      div.appendChild(progress);\n",
              "      document.body.appendChild(div);\n",
              "\n",
              "      const buffers = [];\n",
              "      let downloaded = 0;\n",
              "\n",
              "      const channel = await google.colab.kernel.comms.open(id);\n",
              "      // Send a message to notify the kernel that we're ready.\n",
              "      channel.send({})\n",
              "\n",
              "      for await (const message of channel.messages) {\n",
              "        // Send a message to notify the kernel that we're ready.\n",
              "        channel.send({})\n",
              "        if (message.buffers) {\n",
              "          for (const buffer of message.buffers) {\n",
              "            buffers.push(buffer);\n",
              "            downloaded += buffer.byteLength;\n",
              "            progress.value = downloaded;\n",
              "          }\n",
              "        }\n",
              "      }\n",
              "      const blob = new Blob(buffers, {type: 'application/binary'});\n",
              "      const a = document.createElement('a');\n",
              "      a.href = window.URL.createObjectURL(blob);\n",
              "      a.download = filename;\n",
              "      div.appendChild(a);\n",
              "      a.click();\n",
              "      div.remove();\n",
              "    }\n",
              "  "
            ]
          },
          "metadata": {}
        },
        {
          "output_type": "display_data",
          "data": {
            "text/plain": [
              "<IPython.core.display.Javascript object>"
            ],
            "application/javascript": [
              "download(\"download_cb6c9738-bcd4-4849-8f1d-da783a5c80c4\", \"val_40_pred.jpg\", 53269)"
            ]
          },
          "metadata": {}
        }
      ]
    }
  ]
}