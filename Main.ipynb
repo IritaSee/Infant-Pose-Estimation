{
  "nbformat": 4,
  "nbformat_minor": 0,
  "metadata": {
    "colab": {
      "provenance": [],
      "authorship_tag": "ABX9TyPHWLlZt4q3GB+Y1QAc6p6S",
      "include_colab_link": true
    },
    "kernelspec": {
      "name": "python3",
      "display_name": "Python 3"
    },
    "language_info": {
      "name": "python"
    }
  },
  "cells": [
    {
      "cell_type": "markdown",
      "metadata": {
        "id": "view-in-github",
        "colab_type": "text"
      },
      "source": [
        "<a href=\"https://colab.research.google.com/github/dhupee/Infant-Pose-Estimation/blob/master/Main.ipynb\" target=\"_parent\"><img src=\"https://colab.research.google.com/assets/colab-badge.svg\" alt=\"Open In Colab\"/></a>"
      ]
    },
    {
      "cell_type": "markdown",
      "source": [
        "<a target=\"_blank\" href=\"https://colab.research.google.com/github/dhupee/Infant-Pose-Estimation/blob/master/Main.ipynb\">\n",
        "  <img src=\"https://colab.research.google.com/assets/colab-badge.svg\" alt=\"Open In Colab\"/>\n",
        "</a>"
      ],
      "metadata": {
        "id": "mtOXBR9zo4uM"
      }
    },
    {
      "cell_type": "markdown",
      "source": [
        "Please run this one by one."
      ],
      "metadata": {
        "id": "T8AXwH9rpL_b"
      }
    },
    {
      "cell_type": "code",
      "execution_count": 3,
      "metadata": {
        "id": "QyfcMhR1ntKX",
        "outputId": "22137fa3-cc0f-41ef-b711-56fc83f9f947",
        "colab": {
          "base_uri": "https://localhost:8080/"
        }
      },
      "outputs": [
        {
          "output_type": "stream",
          "name": "stdout",
          "text": [
            "fatal: destination path 'Infant-Pose-Estimation' already exists and is not an empty directory.\n"
          ]
        }
      ],
      "source": [
        "# cloning master repo and symlink all important configs\n",
        "!git clone https://github.com/IritaSee/Infant-Pose-Estimation.git\n",
        "!ln -s \"/Infant-Pose-Estimation/README.md\" \"./README.md\""
      ]
    },
    {
      "cell_type": "markdown",
      "source": [
        "Once you see `yaml` file in the File System you can edit it to suit your need "
      ],
      "metadata": {
        "id": "69wM5Ia2rw6Q"
      }
    },
    {
      "cell_type": "code",
      "source": [
        "!"
      ],
      "metadata": {
        "id": "thr2LN9fo-LU"
      },
      "execution_count": null,
      "outputs": []
    }
  ]
}