{
  "nbformat": 4,
  "nbformat_minor": 0,
  "metadata": {
    "colab": {
      "provenance": [],
      "authorship_tag": "ABX9TyPQByZYMt/hIdu1LMaqA+Di",
      "include_colab_link": true
    },
    "kernelspec": {
      "name": "python3",
      "display_name": "Python 3"
    },
    "language_info": {
      "name": "python"
    },
    "accelerator": "GPU",
    "gpuClass": "standard"
  },
  "cells": [
    {
      "cell_type": "markdown",
      "metadata": {
        "id": "view-in-github",
        "colab_type": "text"
      },
      "source": [
        "<a href=\"https://colab.research.google.com/github/dhupee/Infant-Pose-Estimation/blob/master/Main.ipynb\" target=\"_parent\"><img src=\"https://colab.research.google.com/assets/colab-badge.svg\" alt=\"Open In Colab\"/></a>"
      ]
    },
    {
      "cell_type": "markdown",
      "source": [
        "Please run this one by one."
      ],
      "metadata": {
        "id": "T8AXwH9rpL_b"
      }
    },
    {
      "cell_type": "code",
      "source": [
        "!python -V"
      ],
      "metadata": {
        "id": "IkXFqW_RvB1B",
        "outputId": "c4d5a86e-f679-4c43-dfdd-041e952c6632",
        "colab": {
          "base_uri": "https://localhost:8080/"
        }
      },
      "execution_count": 1,
      "outputs": [
        {
          "output_type": "stream",
          "name": "stdout",
          "text": [
            "Python 3.8.10\n"
          ]
        }
      ]
    },
    {
      "cell_type": "code",
      "execution_count": 5,
      "metadata": {
        "id": "QyfcMhR1ntKX",
        "colab": {
          "base_uri": "https://localhost:8080/"
        },
        "outputId": "e6ab8a36-0112-46b1-feeb-aab96bc2fb3b"
      },
      "outputs": [
        {
          "output_type": "stream",
          "name": "stdout",
          "text": [
            "fatal: destination path 'Infant-Pose-Estimation' already exists and is not an empty directory.\n",
            "ln: failed to create symbolic link './w48_384x288_adam_lr1e-3_custom.yaml': File exists\n",
            "Looking in indexes: https://pypi.org/simple, https://us-python.pkg.dev/colab-wheels/public/simple/\n",
            "Collecting EasyDict==1.7\n",
            "  Using cached easydict-1.7.tar.gz (6.2 kB)\n",
            "  Preparing metadata (setup.py) ... \u001b[?25l\u001b[?25hdone\n",
            "Requirement already satisfied: opencv-python in /usr/local/lib/python3.8/dist-packages (from -r Infant-Pose-Estimation/requirements.txt (line 2)) (4.6.0.66)\n",
            "Collecting shapely==1.6.4\n",
            "  Downloading Shapely-1.6.4.tar.gz (224 kB)\n",
            "\u001b[2K     \u001b[90m━━━━━━━━━━━━━━━━━━━━━━━━━━━━━━━━━━━━━━\u001b[0m \u001b[32m224.2/224.2 KB\u001b[0m \u001b[31m21.4 MB/s\u001b[0m eta \u001b[36m0:00:00\u001b[0m\n",
            "\u001b[?25h  Preparing metadata (setup.py) ... \u001b[?25l\u001b[?25hdone\n",
            "Requirement already satisfied: Cython in /usr/local/lib/python3.8/dist-packages (from -r Infant-Pose-Estimation/requirements.txt (line 4)) (0.29.33)\n",
            "Requirement already satisfied: scipy in /usr/local/lib/python3.8/dist-packages (from -r Infant-Pose-Estimation/requirements.txt (line 5)) (1.7.3)\n",
            "Requirement already satisfied: pandas in /usr/local/lib/python3.8/dist-packages (from -r Infant-Pose-Estimation/requirements.txt (line 6)) (1.3.5)\n",
            "Requirement already satisfied: pyyaml in /usr/local/lib/python3.8/dist-packages (from -r Infant-Pose-Estimation/requirements.txt (line 7)) (6.0)\n",
            "Collecting json_tricks\n",
            "  Downloading json_tricks-3.16.1-py2.py3-none-any.whl (27 kB)\n",
            "Requirement already satisfied: scikit-image in /usr/local/lib/python3.8/dist-packages (from -r Infant-Pose-Estimation/requirements.txt (line 9)) (0.18.3)\n",
            "Collecting yacs>=0.1.5\n",
            "  Downloading yacs-0.1.8-py3-none-any.whl (14 kB)\n",
            "Collecting tensorboardX==1.6\n",
            "  Downloading tensorboardX-1.6-py2.py3-none-any.whl (129 kB)\n",
            "\u001b[2K     \u001b[90m━━━━━━━━━━━━━━━━━━━━━━━━━━━━━━━━━━━━━━\u001b[0m \u001b[32m129.4/129.4 KB\u001b[0m \u001b[31m18.2 MB/s\u001b[0m eta \u001b[36m0:00:00\u001b[0m\n",
            "\u001b[?25hRequirement already satisfied: torchvision in /usr/local/lib/python3.8/dist-packages (from -r Infant-Pose-Estimation/requirements.txt (line 12)) (0.14.1+cu116)\n",
            "Collecting dsntnn\n",
            "  Downloading dsntnn-0.5.3-py3-none-any.whl (9.6 kB)\n",
            "Requirement already satisfied: six in /usr/local/lib/python3.8/dist-packages (from tensorboardX==1.6->-r Infant-Pose-Estimation/requirements.txt (line 11)) (1.15.0)\n",
            "Requirement already satisfied: protobuf>=3.2.0 in /usr/local/lib/python3.8/dist-packages (from tensorboardX==1.6->-r Infant-Pose-Estimation/requirements.txt (line 11)) (3.19.6)\n",
            "Requirement already satisfied: numpy in /usr/local/lib/python3.8/dist-packages (from tensorboardX==1.6->-r Infant-Pose-Estimation/requirements.txt (line 11)) (1.21.6)\n",
            "Requirement already satisfied: pytz>=2017.3 in /usr/local/lib/python3.8/dist-packages (from pandas->-r Infant-Pose-Estimation/requirements.txt (line 6)) (2022.7)\n",
            "Requirement already satisfied: python-dateutil>=2.7.3 in /usr/local/lib/python3.8/dist-packages (from pandas->-r Infant-Pose-Estimation/requirements.txt (line 6)) (2.8.2)\n",
            "Requirement already satisfied: pillow!=7.1.0,!=7.1.1,>=4.3.0 in /usr/local/lib/python3.8/dist-packages (from scikit-image->-r Infant-Pose-Estimation/requirements.txt (line 9)) (7.1.2)\n",
            "Requirement already satisfied: matplotlib!=3.0.0,>=2.0.0 in /usr/local/lib/python3.8/dist-packages (from scikit-image->-r Infant-Pose-Estimation/requirements.txt (line 9)) (3.2.2)\n",
            "Requirement already satisfied: PyWavelets>=1.1.1 in /usr/local/lib/python3.8/dist-packages (from scikit-image->-r Infant-Pose-Estimation/requirements.txt (line 9)) (1.4.1)\n",
            "Requirement already satisfied: imageio>=2.3.0 in /usr/local/lib/python3.8/dist-packages (from scikit-image->-r Infant-Pose-Estimation/requirements.txt (line 9)) (2.9.0)\n",
            "Requirement already satisfied: tifffile>=2019.7.26 in /usr/local/lib/python3.8/dist-packages (from scikit-image->-r Infant-Pose-Estimation/requirements.txt (line 9)) (2022.10.10)\n",
            "Requirement already satisfied: networkx>=2.0 in /usr/local/lib/python3.8/dist-packages (from scikit-image->-r Infant-Pose-Estimation/requirements.txt (line 9)) (3.0)\n",
            "Requirement already satisfied: torch==1.13.1 in /usr/local/lib/python3.8/dist-packages (from torchvision->-r Infant-Pose-Estimation/requirements.txt (line 12)) (1.13.1+cu116)\n",
            "Requirement already satisfied: requests in /usr/local/lib/python3.8/dist-packages (from torchvision->-r Infant-Pose-Estimation/requirements.txt (line 12)) (2.25.1)\n",
            "Requirement already satisfied: typing-extensions in /usr/local/lib/python3.8/dist-packages (from torchvision->-r Infant-Pose-Estimation/requirements.txt (line 12)) (4.4.0)\n",
            "Requirement already satisfied: pyparsing!=2.0.4,!=2.1.2,!=2.1.6,>=2.0.1 in /usr/local/lib/python3.8/dist-packages (from matplotlib!=3.0.0,>=2.0.0->scikit-image->-r Infant-Pose-Estimation/requirements.txt (line 9)) (3.0.9)\n",
            "Requirement already satisfied: cycler>=0.10 in /usr/local/lib/python3.8/dist-packages (from matplotlib!=3.0.0,>=2.0.0->scikit-image->-r Infant-Pose-Estimation/requirements.txt (line 9)) (0.11.0)\n",
            "Requirement already satisfied: kiwisolver>=1.0.1 in /usr/local/lib/python3.8/dist-packages (from matplotlib!=3.0.0,>=2.0.0->scikit-image->-r Infant-Pose-Estimation/requirements.txt (line 9)) (1.4.4)\n",
            "Requirement already satisfied: chardet<5,>=3.0.2 in /usr/local/lib/python3.8/dist-packages (from requests->torchvision->-r Infant-Pose-Estimation/requirements.txt (line 12)) (4.0.0)\n",
            "Requirement already satisfied: urllib3<1.27,>=1.21.1 in /usr/local/lib/python3.8/dist-packages (from requests->torchvision->-r Infant-Pose-Estimation/requirements.txt (line 12)) (1.24.3)\n",
            "Requirement already satisfied: idna<3,>=2.5 in /usr/local/lib/python3.8/dist-packages (from requests->torchvision->-r Infant-Pose-Estimation/requirements.txt (line 12)) (2.10)\n",
            "Requirement already satisfied: certifi>=2017.4.17 in /usr/local/lib/python3.8/dist-packages (from requests->torchvision->-r Infant-Pose-Estimation/requirements.txt (line 12)) (2022.12.7)\n",
            "Building wheels for collected packages: EasyDict, shapely\n",
            "  Building wheel for EasyDict (setup.py) ... \u001b[?25l\u001b[?25hdone\n",
            "  Created wheel for EasyDict: filename=easydict-1.7-py3-none-any.whl size=6121 sha256=44a05b3b298905eb9429f2ffcf411af7e6681d3ecba1851c09ac5b2609426ad1\n",
            "  Stored in directory: /root/.cache/pip/wheels/6b/6a/10/323b57f885fc70196a20ed9b0301db63990726998c3910e4fa\n",
            "  Building wheel for shapely (setup.py) ... \u001b[?25l\u001b[?25hdone\n",
            "  Created wheel for shapely: filename=Shapely-1.6.4-cp38-cp38-linux_x86_64.whl size=948516 sha256=f6c619b4087a933913ad3e13c9cade4c4766b329441057b9765397464eb887fe\n",
            "  Stored in directory: /root/.cache/pip/wheels/02/69/26/66217edd952388dd6fd2c91f7258f0a997d1afb8c33c29b96d\n",
            "Successfully built EasyDict shapely\n",
            "Installing collected packages: shapely, json_tricks, EasyDict, yacs, tensorboardX, dsntnn\n",
            "  Attempting uninstall: shapely\n",
            "    Found existing installation: shapely 2.0.0\n",
            "    Uninstalling shapely-2.0.0:\n",
            "      Successfully uninstalled shapely-2.0.0\n",
            "  Attempting uninstall: EasyDict\n",
            "    Found existing installation: easydict 1.10\n",
            "    Uninstalling easydict-1.10:\n",
            "      Successfully uninstalled easydict-1.10\n",
            "Successfully installed EasyDict-1.7 dsntnn-0.5.3 json_tricks-3.16.1 shapely-1.6.4 tensorboardX-1.6 yacs-0.1.8\n"
          ]
        }
      ],
      "source": [
        "# cloning master repo and symlink all important configs\n",
        "!git clone https://github.com/IritaSee/Infant-Pose-Estimation.git\n",
        "!ln -s /content/Infant-Pose-Estimation/experiments/coco/hrnet/w48_384x288_adam_lr1e-3_custom.yaml ./w48_384x288_adam_lr1e-3_custom.yaml\n",
        "!pip install -r Infant-Pose-Estimation/requirements.txt"
      ]
    },
    {
      "cell_type": "markdown",
      "source": [
        "Once you see `yaml` file in the File System you can edit it to suit your need "
      ],
      "metadata": {
        "id": "69wM5Ia2rw6Q"
      }
    },
    {
      "cell_type": "code",
      "source": [
        "!python3 Infant-Pose-Estimation/tools/test_adaptive_model.py --cfg Infant-Pose-Estimation/experiments/coco/hrnet/w48_384x288_adam_lr1e-3_custom.yaml TEST.MODEL_FILE Infant-Pose-Estimation/models/hrnet_fidip.pth TEST.USE_GT_BOX True"
      ],
      "metadata": {
        "colab": {
          "base_uri": "https://localhost:8080/"
        },
        "id": "thr2LN9fo-LU",
        "outputId": "df0dc0a3-3d8d-4b34-f0c8-3fe5dc34ec0c"
      },
      "execution_count": 7,
      "outputs": [
        {
          "output_type": "stream",
          "name": "stdout",
          "text": [
            "Traceback (most recent call last):\n",
            "  File \"Infant-Pose-Estimation/tools/test_adaptive_model.py\", line 34, in <module>\n",
            "    import dataset\n",
            "  File \"/content/Infant-Pose-Estimation/tools/../lib/dataset/__init__.py\", line 12, in <module>\n",
            "    from .coco import COCODataset as coco\n",
            "  File \"/content/Infant-Pose-Estimation/tools/../lib/dataset/coco.py\", line 23, in <module>\n",
            "    from nms.nms import oks_nms\n",
            "  File \"/content/Infant-Pose-Estimation/tools/../lib/nms/nms.py\", line 13, in <module>\n",
            "    from .cpu_nms import cpu_nms\n",
            "ModuleNotFoundError: No module named 'nms.cpu_nms'\n"
          ]
        }
      ]
    },
    {
      "cell_type": "code",
      "source": [
        "from google.colab import files\n",
        "\n",
        "# TODO: add directory for ouput\n",
        "# !ln -s\n",
        "# files.download('example.txt')"
      ],
      "metadata": {
        "id": "fIWyBvssuXFk",
        "outputId": "a52ca134-7722-464f-9ec0-b88c66ade155",
        "colab": {
          "base_uri": "https://localhost:8080/",
          "height": 17
        }
      },
      "execution_count": 4,
      "outputs": [
        {
          "output_type": "display_data",
          "data": {
            "text/plain": [
              "<IPython.core.display.Javascript object>"
            ],
            "application/javascript": [
              "\n",
              "    async function download(id, filename, size) {\n",
              "      if (!google.colab.kernel.accessAllowed) {\n",
              "        return;\n",
              "      }\n",
              "      const div = document.createElement('div');\n",
              "      const label = document.createElement('label');\n",
              "      label.textContent = `Downloading \"${filename}\": `;\n",
              "      div.appendChild(label);\n",
              "      const progress = document.createElement('progress');\n",
              "      progress.max = size;\n",
              "      div.appendChild(progress);\n",
              "      document.body.appendChild(div);\n",
              "\n",
              "      const buffers = [];\n",
              "      let downloaded = 0;\n",
              "\n",
              "      const channel = await google.colab.kernel.comms.open(id);\n",
              "      // Send a message to notify the kernel that we're ready.\n",
              "      channel.send({})\n",
              "\n",
              "      for await (const message of channel.messages) {\n",
              "        // Send a message to notify the kernel that we're ready.\n",
              "        channel.send({})\n",
              "        if (message.buffers) {\n",
              "          for (const buffer of message.buffers) {\n",
              "            buffers.push(buffer);\n",
              "            downloaded += buffer.byteLength;\n",
              "            progress.value = downloaded;\n",
              "          }\n",
              "        }\n",
              "      }\n",
              "      const blob = new Blob(buffers, {type: 'application/binary'});\n",
              "      const a = document.createElement('a');\n",
              "      a.href = window.URL.createObjectURL(blob);\n",
              "      a.download = filename;\n",
              "      div.appendChild(a);\n",
              "      a.click();\n",
              "      div.remove();\n",
              "    }\n",
              "  "
            ]
          },
          "metadata": {}
        },
        {
          "output_type": "display_data",
          "data": {
            "text/plain": [
              "<IPython.core.display.Javascript object>"
            ],
            "application/javascript": [
              "download(\"download_670d9738-f8bd-48dd-a13d-f7593f9470a2\", \"example.txt\", 12)"
            ]
          },
          "metadata": {}
        }
      ]
    },
    {
      "cell_type": "code",
      "source": [],
      "metadata": {
        "id": "bfKW60IIxcks"
      },
      "execution_count": null,
      "outputs": []
    }
  ]
}